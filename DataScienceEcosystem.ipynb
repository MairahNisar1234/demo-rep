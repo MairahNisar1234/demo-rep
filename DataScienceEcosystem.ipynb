{
 "cells": [
  {
   "cell_type": "markdown",
   "id": "d69bdc66",
   "metadata": {},
   "source": [
    "# Data Science Tools and Ecosystem"
   ]
  },
  {
   "cell_type": "markdown",
   "id": "cd8aed13",
   "metadata": {},
   "source": [
    "###In this notebook, Data Science Tools and Ecosystem are summarized "
   ]
  },
  {
   "cell_type": "markdown",
   "id": "1c12a4ea",
   "metadata": {},
   "source": [
    "\n",
    "*List popular langauges data scientists use\n",
    "*List common libraries used\n",
    "*Basic python code"
   ]
  },
  {
   "cell_type": "markdown",
   "id": "e6abb784",
   "metadata": {},
   "source": [
    "####Some of the popular languages that Data Scientists use are:\n",
    "1. Python\n",
    "2. R\n",
    "3. SQL\n",
    "4. Java\n",
    "5. C/C++\n",
    "6. julia"
   ]
  },
  {
   "cell_type": "markdown",
   "id": "5bf4a22f",
   "metadata": {},
   "source": [
    "###Some of the commonly used libraries used by Data Scientists are:\n",
    "####python:\n",
    "1. pandda,Numpy (for scientific computing)\n",
    "2. Matplotlib,Seaborn (graphs,plots)\n",
    "3. Keras,Sekit-learn (machine learning)\n",
    "4. Tensorflow, PyTorch (deep learning)\n",
    "\n",
    "\n",
    "####R:\n",
    "1. dblyr (data manipulation)\n",
    "2. stingr(string manipulation)\n",
    "3. ggplot(data visualisation)\n",
    "4. caret (machine learning)"
   ]
  },
  {
   "cell_type": "markdown",
   "id": "b729723d",
   "metadata": {},
   "source": [
    "#####Data Science Tools\n",
    "| Data Science Tools |\n",
    "|--------------------|\n",
    "|       APACHE       |\n",
    "|    MongoDB         |\n",
    "| Scikit-learn       |\n",
    "| Watson Studio      |\n",
    "| IBM DB 2           |\n",
    "| Spyder             "
   ]
  },
  {
   "cell_type": "markdown",
   "id": "9cfeefd2",
   "metadata": {},
   "source": [
    "#####Below are a few examples of evaluating arithmetic expressions in Python\n"
   ]
  },
  {
   "cell_type": "code",
   "execution_count": null,
   "id": "efd80e44",
   "metadata": {},
   "outputs": [],
   "source": [
    "a=5 \n",
    "b=10\n",
    "z=9*a+10*b\n",
    "print(z)\n",
    "y=9+a\n",
    "print(y)"
   ]
  },
  {
   "cell_type": "code",
   "execution_count": 1,
   "id": "a4c0d244",
   "metadata": {},
   "outputs": [
    {
     "name": "stdout",
     "output_type": "stream",
     "text": [
      "17\n"
     ]
    }
   ],
   "source": [
    "###this a simple arithmetic expression to mutiply then add integers.\n",
    "\n",
    "z=(3*4)+5\n",
    "print(z)\n"
   ]
  },
  {
   "cell_type": "code",
   "execution_count": 2,
   "id": "b7fcff2a",
   "metadata": {},
   "outputs": [
    {
     "name": "stdout",
     "output_type": "stream",
     "text": [
      "3.3333333333333335\n"
     ]
    }
   ],
   "source": [
    "###This will convert 200 minutes to hours by diving by 60\n",
    "minutes=200\n",
    "hour=minutes/60\n",
    "print(hour)"
   ]
  },
  {
   "cell_type": "markdown",
   "id": "0df4aa53",
   "metadata": {},
   "source": [
    "##AUTHOR: \n",
    "Mairah Nisar"
   ]
  }
 ],
 "metadata": {
  "kernelspec": {
   "display_name": "Python 3 (ipykernel)",
   "language": "python",
   "name": "python3"
  },
  "language_info": {
   "codemirror_mode": {
    "name": "ipython",
    "version": 3
   },
   "file_extension": ".py",
   "mimetype": "text/x-python",
   "name": "python",
   "nbconvert_exporter": "python",
   "pygments_lexer": "ipython3",
   "version": "3.11.4"
  }
 },
 "nbformat": 4,
 "nbformat_minor": 5
}
